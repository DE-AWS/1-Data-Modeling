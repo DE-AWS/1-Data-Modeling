{
 "cells": [
  {
   "cell_type": "markdown",
   "id": "arbitrary-audio",
   "metadata": {},
   "source": [
    "# Lesson 1 Demo 0: PostgresSQL and AutoCommits."
   ]
  },
  {
   "cell_type": "markdown",
   "id": "fatty-native",
   "metadata": {},
   "source": [
    "PostgresSQL autocommits"
   ]
  },
  {
   "cell_type": "code",
   "execution_count": 10,
   "id": "induced-judgment",
   "metadata": {},
   "outputs": [],
   "source": [
    "import psycopg2"
   ]
  },
  {
   "cell_type": "markdown",
   "id": "current-voltage",
   "metadata": {},
   "source": [
    "## First let's create a connection to the database\n",
    "This connects to our local instace of PostgreSQL. From there we will use the database/schema. This connection will reach out to the database and insure we have the correct privilages to connect to this database."
   ]
  },
  {
   "cell_type": "code",
   "execution_count": 19,
   "id": "accepting-pressure",
   "metadata": {},
   "outputs": [],
   "source": [
    "conn = psycopg2.connect(host=\"127.0.0.1\", dbname= \"studentdb\", user=\"student\", password=\"1234\")"
   ]
  },
  {
   "cell_type": "markdown",
   "id": "exposed-barcelona",
   "metadata": {},
   "source": [
    "### Next use that connection to get a cursor that we will use to execute queries."
   ]
  },
  {
   "cell_type": "code",
   "execution_count": 26,
   "id": "passive-serum",
   "metadata": {},
   "outputs": [],
   "source": [
    "cur = conn.cursor()"
   ]
  },
  {
   "cell_type": "markdown",
   "id": "designed-olive",
   "metadata": {},
   "source": [
    "### Let's try to run a query"
   ]
  },
  {
   "cell_type": "code",
   "execution_count": 27,
   "id": "indonesian-tenant",
   "metadata": {},
   "outputs": [],
   "source": [
    "cur.execute(\"CREATE TABLE test123 (col1 int, col2 int, col3 int);\")"
   ]
  },
  {
   "cell_type": "code",
   "execution_count": 29,
   "id": "buried-twelve",
   "metadata": {},
   "outputs": [],
   "source": [
    "cur.execute(\"SELECT * from test123\")"
   ]
  },
  {
   "cell_type": "code",
   "execution_count": 30,
   "id": "popular-sullivan",
   "metadata": {},
   "outputs": [],
   "source": [
    "conn.commit()"
   ]
  },
  {
   "cell_type": "markdown",
   "id": "smart-pearl",
   "metadata": {},
   "source": [
    "**We will use autocommit so that each action is commited without having to call conn.commit() after each command. The ability to rollback and commit transactions are a feature of Relational Databases**"
   ]
  },
  {
   "cell_type": "code",
   "execution_count": 37,
   "id": "disabled-wednesday",
   "metadata": {},
   "outputs": [],
   "source": [
    "conn2 = psycopg2.connect(host=\"127.0.0.1\", dbname= \"studentdb\", user=\"student\", password=\"1234\")"
   ]
  },
  {
   "cell_type": "code",
   "execution_count": 38,
   "id": "accurate-tutorial",
   "metadata": {},
   "outputs": [],
   "source": [
    "conn2.set_session(autocommit=True)\n"
   ]
  },
  {
   "cell_type": "code",
   "execution_count": 41,
   "id": "completed-variance",
   "metadata": {},
   "outputs": [],
   "source": [
    "cur=conn2.cursor()"
   ]
  },
  {
   "cell_type": "code",
   "execution_count": 44,
   "id": "asian-fraud",
   "metadata": {},
   "outputs": [],
   "source": [
    "cur.execute(\"SELECT * from test123\")"
   ]
  },
  {
   "cell_type": "code",
   "execution_count": 45,
   "id": "suitable-creator",
   "metadata": {},
   "outputs": [
    {
     "name": "stdout",
     "output_type": "stream",
     "text": [
      "[]\n"
     ]
    }
   ],
   "source": [
    "print(cur.fetchall())"
   ]
  },
  {
   "cell_type": "code",
   "execution_count": null,
   "id": "political-price",
   "metadata": {},
   "outputs": [],
   "source": [
    "cur.execute(\"drop table test123\")"
   ]
  },
  {
   "cell_type": "code",
   "execution_count": null,
   "id": "compound-coach",
   "metadata": {},
   "outputs": [],
   "source": []
  },
  {
   "cell_type": "code",
   "execution_count": null,
   "id": "exempt-replica",
   "metadata": {},
   "outputs": [],
   "source": []
  },
  {
   "cell_type": "code",
   "execution_count": null,
   "id": "western-resistance",
   "metadata": {},
   "outputs": [],
   "source": []
  },
  {
   "cell_type": "code",
   "execution_count": null,
   "id": "trained-position",
   "metadata": {},
   "outputs": [],
   "source": []
  },
  {
   "cell_type": "code",
   "execution_count": null,
   "id": "national-influence",
   "metadata": {},
   "outputs": [],
   "source": []
  },
  {
   "cell_type": "code",
   "execution_count": null,
   "id": "competent-neutral",
   "metadata": {},
   "outputs": [],
   "source": []
  },
  {
   "cell_type": "code",
   "execution_count": null,
   "id": "characteristic-pathology",
   "metadata": {},
   "outputs": [],
   "source": []
  },
  {
   "cell_type": "code",
   "execution_count": null,
   "id": "apart-science",
   "metadata": {},
   "outputs": [],
   "source": []
  },
  {
   "cell_type": "code",
   "execution_count": null,
   "id": "illegal-working",
   "metadata": {},
   "outputs": [],
   "source": []
  }
 ],
 "metadata": {
  "kernelspec": {
   "display_name": "Python 3",
   "language": "python",
   "name": "python3"
  },
  "language_info": {
   "codemirror_mode": {
    "name": "ipython",
    "version": 3
   },
   "file_extension": ".py",
   "mimetype": "text/x-python",
   "name": "python",
   "nbconvert_exporter": "python",
   "pygments_lexer": "ipython3",
   "version": "3.7.0"
  }
 },
 "nbformat": 4,
 "nbformat_minor": 5
}

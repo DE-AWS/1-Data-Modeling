{
 "cells": [
  {
   "cell_type": "markdown",
   "id": "pointed-revelation",
   "metadata": {},
   "source": [
    "# Lesson 1 Demo 1: Creating a Table with Postgres"
   ]
  },
  {
   "cell_type": "markdown",
   "id": "accomplished-rochester",
   "metadata": {},
   "source": [
    "### Import the library"
   ]
  },
  {
   "cell_type": "code",
   "execution_count": 3,
   "id": "dated-nancy",
   "metadata": {},
   "outputs": [],
   "source": [
    "import psycopg2"
   ]
  },
  {
   "cell_type": "markdown",
   "id": "accessory-commerce",
   "metadata": {},
   "source": [
    "## First let's create a connection to the database\n",
    "This connectos to our local instace of PostresSQL. From there we will use the database/schema. This connection will reach out to the database and insure we have the correct privilages to connect to this database."
   ]
  },
  {
   "cell_type": "code",
   "execution_count": 19,
   "id": "adopted-final",
   "metadata": {},
   "outputs": [],
   "source": [
    "try:\n",
    "    conn = psycopg2.connect(\"host=127.0.0.1 dbname=studentdb user=student password=1234\")\n",
    "except psycopg2.Error as e:\n",
    "    print('Error: Could not make connection to the Postgres database')\n",
    "    print(e)"
   ]
  },
  {
   "cell_type": "markdown",
   "id": "bearing-keeping",
   "metadata": {},
   "source": [
    "## Next use that connect to get a cursor that we will use to execute queries. "
   ]
  },
  {
   "cell_type": "code",
   "execution_count": 20,
   "id": "bibliographic-october",
   "metadata": {},
   "outputs": [],
   "source": [
    "try:\n",
    "    cur = conn.cursor()\n",
    "except psycopg2.Error as e:\n",
    "    print('Error: Could not make connection to the Postgres database')\n",
    "    print(e)"
   ]
  },
  {
   "cell_type": "markdown",
   "id": "cooperative-drink",
   "metadata": {},
   "source": [
    "### autocommit = True"
   ]
  },
  {
   "cell_type": "code",
   "execution_count": 21,
   "id": "coupled-posting",
   "metadata": {},
   "outputs": [],
   "source": [
    "conn.set_session(autocommit = True)"
   ]
  },
  {
   "cell_type": "markdown",
   "id": "hollywood-andrews",
   "metadata": {},
   "source": [
    "### Let's Test our Connection and our Error Handling"
   ]
  },
  {
   "cell_type": "code",
   "execution_count": 22,
   "id": "upper-gilbert",
   "metadata": {},
   "outputs": [
    {
     "name": "stdout",
     "output_type": "stream",
     "text": [
      "relation \"udacity.music_library\" does not exist\n",
      "LINE 1: select * from udacity.music_library\n",
      "                      ^\n",
      "\n"
     ]
    }
   ],
   "source": [
    "try:\n",
    "    cur.execute(\"select * from udacity.music_library\")\n",
    "except psycopg2.Error as e:\n",
    "    print(e)  "
   ]
  },
  {
   "cell_type": "markdown",
   "id": "weekly-commerce",
   "metadata": {},
   "source": [
    "### Let's create a database to do our work in"
   ]
  },
  {
   "cell_type": "code",
   "execution_count": 23,
   "id": "controversial-journalism",
   "metadata": {},
   "outputs": [
    {
     "name": "stdout",
     "output_type": "stream",
     "text": [
      "permission denied to create database\n",
      "\n"
     ]
    }
   ],
   "source": [
    "try: \n",
    "    cur.execute(\"create database statement\")\n",
    "except psycopg2.Error as e:\n",
    "    print(e)"
   ]
  },
  {
   "cell_type": "code",
   "execution_count": null,
   "id": "monetary-steal",
   "metadata": {},
   "outputs": [],
   "source": []
  },
  {
   "cell_type": "code",
   "execution_count": null,
   "id": "fifteen-poetry",
   "metadata": {},
   "outputs": [],
   "source": []
  },
  {
   "cell_type": "code",
   "execution_count": null,
   "id": "statistical-classification",
   "metadata": {},
   "outputs": [],
   "source": []
  },
  {
   "cell_type": "code",
   "execution_count": null,
   "id": "thorough-blood",
   "metadata": {},
   "outputs": [],
   "source": []
  },
  {
   "cell_type": "code",
   "execution_count": null,
   "id": "efficient-prairie",
   "metadata": {},
   "outputs": [],
   "source": []
  },
  {
   "cell_type": "code",
   "execution_count": null,
   "id": "certified-biology",
   "metadata": {},
   "outputs": [],
   "source": []
  },
  {
   "cell_type": "code",
   "execution_count": null,
   "id": "nutritional-fortune",
   "metadata": {},
   "outputs": [],
   "source": []
  }
 ],
 "metadata": {
  "kernelspec": {
   "display_name": "Python 3",
   "language": "python",
   "name": "python3"
  },
  "language_info": {
   "codemirror_mode": {
    "name": "ipython",
    "version": 3
   },
   "file_extension": ".py",
   "mimetype": "text/x-python",
   "name": "python",
   "nbconvert_exporter": "python",
   "pygments_lexer": "ipython3",
   "version": "3.7.0"
  }
 },
 "nbformat": 4,
 "nbformat_minor": 5
}
